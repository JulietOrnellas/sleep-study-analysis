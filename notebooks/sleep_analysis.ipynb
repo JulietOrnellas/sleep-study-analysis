{
 "cells": [
  {
   "cell_type": "code",
   "execution_count": null,
   "metadata": {},
   "outputs": [],
   "source": [
    "import pandas as pd\n",
    "\n",
    "# Load dataset\n",
    "sleep_url = \"https://raw.githubusercontent.com/bloominstituteoftechnology/data-science-practice-datasets/main/unit_1/Sleep/sleep.csv\"\n",
    "Sleep = pd.read_csv(sleep_url)\n",
    "\n",
    "# Display the first 5 rows\n",
    "print(Sleep.head())"
   ]
  },
  {
   "cell_type": "code",
   "execution_count": null,
   "metadata": {},
   "outputs": [],
   "source": [
    "import matplotlib.pyplot as plt\n",
    "import seaborn as sns\n",
    "\n",
    "# Create histogram\n",
    "fig, ax = plt.subplots()\n",
    "ax.hist(Sleep['Parasleep'], bins=10, color='skyblue', edgecolor='black')\n",
    "ax.set_xlabel('Total Hours of Dreaming Sleep')\n",
    "ax.set_ylabel('Frequency')\n",
    "ax.set_title('Daily Dreaming Sleep in Mammal Species')\n",
    "plt.show()"
   ]
  },
  {
   "cell_type": "code",
   "execution_count": null,
   "metadata": {},
   "outputs": [],
   "source": [
    "# Subset for danger categories\n",
    "Danger_1 = Sleep.loc[Sleep['Danger'] == 1]\n",
    "Danger_5 = Sleep.loc[Sleep['Danger'] == 5]\n",
    "\n",
    "# View subsets\n",
    "print(Danger_1.head())\n",
    "print(Danger_5.head())"
   ]
  },
  {
   "cell_type": "code",
   "execution_count": null,
   "metadata": {},
   "outputs": [],
   "source": [
    "# Sort dataset\n",
    "Sleep_sorted = Sleep.sort_values(by='Gest')\n",
    "print(Sleep_sorted.head())"
   ]
  },
  {
   "cell_type": "code",
   "execution_count": null,
   "metadata": {},
   "outputs": [],
   "source": [
    "# Plot relationship\n",
    "fig, ax = plt.subplots()\n",
    "ax.plot(Sleep_sorted['Gest'], Sleep_sorted['Parasleep'], marker='o', linestyle='dashdot', color='b')\n",
    "ax.set_xlabel('Gestational Time (days)')\n",
    "ax.set_ylabel('Dreaming Sleep (hours)')\n",
    "ax.set_title('Gestational Time vs. Dreaming Sleep in Mammals')\n",
    "plt.show()"
   ]
  },
  {
   "cell_type": "code",
   "execution_count": null,
   "metadata": {},
   "outputs": [],
   "source": [
    "# Normalize danger categories\n",
    "Danger_prop = Sleep['Danger'].value_counts(normalize=True)\n",
    "Danger_pct = Danger_prop * 100\n",
    "print(Danger_pct)"
   ]
  },
  {
   "cell_type": "code",
   "execution_count": null,
   "metadata": {},
   "outputs": [],
   "source": [
    "# Create new feature\n",
    "Sleep['Short_life'] = Sleep['Life'] < 30\n",
    "\n",
    "# Count plot\n",
    "sns.catplot(x='Short_life', data=Sleep, kind='count', palette='muted')\n",
    "plt.ylabel('Frequency')\n",
    "plt.xlabel('Mammal Lifespan')\n",
    "plt.title('Mammal Lifespan Categories')\n",
    "plt.xticks(ticks=[0, 1], labels=['Lifespan >=30 years', 'Lifespan < 30 years'])\n",
    "plt.show()"
   ]
  },
  {
   "cell_type": "markdown",
   "metadata": {},
   "source": [
    "Results\n",
    "\n",
    "The distribution of dreaming sleep varies widely among mammal species.\n",
    "\n",
    "Mammals in different danger categories exhibit distinct sleep patterns.\n",
    "\n",
    "Gestational time correlates inversely with dreaming sleep duration.\n",
    "\n",
    "Most mammals have a lifespan shorter than 30 years.\n",
    "\n",
    "Conclusion\n",
    "\n",
    "This analysis provides insights into how mammalian sleep is influenced by ecological and physiological factors. Future work could explore predictive models using this dataset."
   ]
  }
 ],
 "metadata": {
  "kernelspec": {
   "display_name": "Module_1-C0Gh4G1s",
   "language": "python",
   "name": "python3"
  },
  "language_info": {
   "name": "python",
   "version": "3.12.3"
  }
 },
 "nbformat": 4,
 "nbformat_minor": 2
}
